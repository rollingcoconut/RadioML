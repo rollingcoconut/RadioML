{
 "cells": [
  {
   "cell_type": "markdown",
   "metadata": {},
   "source": [
    "Kimberly Devi Milner\n",
    "\n",
    "EE Independent Study w/  Fraida Fund\n",
    "\n",
    "# Radio Machine Learning: Modeling the presence of a primary user as a binary classification problem\n",
    "\n",
    "\n",
    "# Theretical Background\n",
    "**ATTRIBUTION:** Images and references from https://ctvrie.files.wordpress.com/2013/07/cograd_commtheory_2013.pdf\n",
    "\n",
    "### What is a cognitive radio?\n",
    "A cognitive radio is a radio that is aware of its environemnt. \n",
    "\n",
    "Cognitive radios (CR) can dynamically and autonomously adjust radio parameters to interact with the environment around it. In this way CRs can decide the optimal carrier frequency and bandwidth to guide the signal to its end to end communication. \n",
    "\n",
    "### Why do we need cognitive radios?\n",
    "CISCO foresees a x1000 increase in wireless traffic by 2020. The licensed and unlicensed spectrum cannot grow at this rate. \n",
    "\n",
    "Cognitive radios provide several solutions to this dilemma; one including a mechanism to take advantage of spectrum holes -- a point in frequency, time or space -- which is not occupied by any transmission. \n",
    "\n",
    "### How  could Cognitive Radios work?\n",
    "\n",
    "#### Spectrum Awareness\n",
    "The cognitive/secondary radio can learn about its environment by observing characteristics of the primary uers's channel. These characteristics include:\n",
    "    * Traffic Patterns\n",
    "    * Signaling Procedures\n",
    "    * Channel Conditions\n",
    "    * (parts of) messages sent by the legacy system\n",
    "\n",
    "\n",
    "#### Transmitting the Secondary Signal\n",
    "\n",
    "There are 3 protocols for the secondary user to transmit signals, which break down into \"margin\" operations and \"help\" operations.\n",
    "\n",
    "\n",
    "###### Image References\n",
    "> * P/STX = primary/secondary transmitter\n",
    "> * P/SRX = primary/secondary receiver\n",
    "\n",
    "$$MARGIN:$$\n",
    "** Underlaying: ** The secondary user's interference to the licensed user's is not avoided, but controlled. The secondary user's intereference should go below the noise floor.\n",
    "> The difficulty here is due to the fact that the exact interference situation at the primary receiver is not known.\n",
    "\n",
    "<img src=\"interweave_2.png\">  \n",
    "\n",
    "** Interleaving: ** Interference by the secondary user is avoided and the secondary user seeks  opportunistic/orthogonal transmission through spectrum holes.\n",
    "<img src=\"underlay.png\">\n",
    "\n",
    "$$HELP:$$\n",
    "** Overlaying: ** The Cognitive Radio knows much more about the primary system (like what message it is sending) and can possibly retransmit this message. \n",
    "<img src=\"overlay.png\"> \n",
    "\n",
    "\n"
   ]
  },
  {
   "cell_type": "markdown",
   "metadata": {},
   "source": [
    "# How can we effectively detect whether or not there is another user present on the spectrum that we want to use?\n",
    "\n",
    "**REFERENCES:** (chapter 2 of Cognitive Radio Book)\n",
    "\n",
    "*Biglieri, E., Goldsmith, A.J., Greenstein, L.J., Mandayam, N.B. and Poor, H.V. (2012) ‘Capacity of cognitive radio networks’, in Principles of Cognitive Radio:. Cambridge: Cambridge University Press, pp. 41–101.*\n",
    "\n",
    "\n",
    "## What is  energy sensing \n",
    "\n",
    "**Energy sensing**  tries to determine the presence of a spectrum hole by comparing the measured energy of the primary channel against a threshold set for primary-user-presence.\n",
    "\n",
    "The primary-user-presence \"threshold depends on the observed-signal model and hence on the noise variance\" (157).\n",
    "So an error made in the estimation of the noise variance will degrade the performance of an engergy detector.\n",
    "\n",
    "But as the energy detector cannot discriminate between signal and noise, it is more likely to make errors in estimating noise variance, especially at low SNRs, and perform worse.\n",
    " \n",
    "## What is Signal-to-Noise Ratio (SNR),  also known as channel gain?\n",
    "$$SNR= \\frac{signalPower}{noisePower}$$ \n",
    "\n",
    "\n",
    "Channel gain is the amplification or attenuation of a signal on a channel:\n",
    "\n",
    "Channel gain(H) for channel(S,R)  is: $$Y = HX + Z(noise),$$ where Y is the  signal received.\n"
   ]
  },
  {
   "cell_type": "markdown",
   "metadata": {},
   "source": [
    "# An Experiment in Binary Classification\n",
    "\n"
   ]
  },
  {
   "cell_type": "code",
   "execution_count": 1,
   "metadata": {
    "collapsed": false
   },
   "outputs": [],
   "source": [
    "%matplotlib inline\n",
    "from scipy import signal\n",
    "import matplotlib.pyplot as plt\n",
    "import numpy as np\n"
   ]
  },
  {
   "cell_type": "markdown",
   "metadata": {},
   "source": [
    "# Generate PSK waves"
   ]
  },
  {
   "cell_type": "code",
   "execution_count": 85,
   "metadata": {
    "collapsed": false
   },
   "outputs": [
    {
     "name": "stdout",
     "output_type": "stream",
     "text": [
      "[(6.123233995736766e-17-1j), (1+0j), (6.123233995736766e-17+1j), (-1+1.2246467991473532e-16j)]\n",
      "0.758125247291\n",
      "0.24661974701\n",
      "3.07406546509\n"
     ]
    },
    {
     "data": {
      "text/plain": [
       "<matplotlib.collections.PathCollection at 0xa69c4e2c>"
      ]
     },
     "execution_count": 85,
     "metadata": {},
     "output_type": "execute_result"
    },
    {
     "data": {
      "image/png": "[encoded data removed]",
      "text/plain": [
       "<matplotlib.figure.Figure at 0xa6a13c0c>"
      ]
     },
     "metadata": {},
     "output_type": "display_data"
    }
   ],
   "source": [
    "import numpy as np\n",
    "\n",
    "# PSKModem lifted from CommPy:\n",
    "# https://github.com/veeresht/CommPy/blob/master/commpy/modulation.py#L97\n",
    "\n",
    "txpower = 1\n",
    "freq = 1\n",
    "m = 4\n",
    "num_bits_symbol = int(np.log2(m))\n",
    "symbol_mapping = np.arange(m)\n",
    "def psk_constellation_symbol(i):\n",
    "    return np.cos(2*np.pi*(i-1)/m) + np.sin(2*np.pi*(i-1)/m)*(0+1j)\n",
    "\n",
    "constellation = [psk_constellation_symbol(sym) for sym in symbol_mapping]\n",
    "\n",
    "samples_per_symbol=64\n",
    "samples=2*np.pi*np.arange(samples_per_symbol)/samples_per_symbol\n",
    "\n",
    "\n",
    "nbits = 50 # *samples/sym elements in final array\n",
    "bitstream = np.random.randint(0,4,nbits)\n",
    "#symbols = [ (psk_constellation_symbol(i)) for i in bitstream]\n",
    "\n",
    "#make_sin( e^):\n",
    "#    \n",
    "\n",
    "print(constellation)\n",
    "#that many samples of approp constellation\n",
    "# modulating by carrier = mult by sin,cos\n",
    "\n",
    "#Draw sine wave; scatter\n",
    "sstream = []\n",
    "for bit in bitstream:\n",
    "    symbol = constellation[bit]\n",
    "    magnitude = np.abs(symbol)\n",
    "    phase = np.angle(symbol)\n",
    "    sstream.append(magnitude*np.sin(samples*freq + phase))\n",
    "    \n",
    "x = np.arange(nbits*samples_per_symbol)\n",
    "\n",
    "\n",
    "input_signal = txpower*np.ndarray.flatten(np.array(sstream))\n",
    "# AWGN channel also lifted from CommPy\n",
    "# https://github.com/veeresht/CommPy/blob/master/commpy/channels.py#L72\n",
    "snr_dB = 3\n",
    "avg_energy = sum(np.abs(input_signal) * np.abs(input_signal))/len(input_signal)\n",
    "snr_linear = 10**(snr_dB/10.0)\n",
    "noise_variance = avg_energy/(2*snr_linear)\n",
    "\n",
    "if input_signal.dtype == complex:\n",
    "    noise = (np.sqrt(noise_variance) * np.random.randn(len(input_signal)))  \\\n",
    "        + (np.sqrt(noise_variance) * np.random.randn(len(input_signal))*1j)\n",
    "else:\n",
    "    noise = np.sqrt(2*noise_variance) * np.random.randn(len(input_signal))\n",
    "\n",
    "output_signal = input_signal + noise\n",
    "\n",
    "#both output and noise # getting power #expect diff \n",
    "signal_P = sum([ np.abs(i**2) for i in output_signal])/len(output_signal)\n",
    "noise_P = sum([ np.abs(i**2) for i in noise]) / len(noise)\n",
    "print(signal_P)\n",
    "print(noise_P)\n",
    "print(signal_P/noise_P)\n",
    "\n",
    "#plt.scatter(x,sstream)\n",
    "\n",
    "plt.scatter(x,output_signal, color='k')\n",
    "\n",
    "plt.scatter(x,noise, color='r')\n",
    "\n",
    "\n",
    "# signal and noise \n",
    "# get snr\n",
    "# create picture from \n",
    "# recreate picture to show energy dectetion doesn't always  work\n",
    "\n",
    "\n",
    "# ML -- > samples from when user is on channel: output \n",
    "# no user plain noise --> \n",
    " # show as snr goes down\n",
    "    \n",
    "# generate these values\n",
    "\n",
    "#bunch of red blue; plot; find if linearly sepearble\n",
    "# see what happens as snr decreases; becomes harder and harder to \n",
    "\n",
    "# M2M4\n",
    "\n",
    "#energy detection method with threshold for each \n",
    "#"
   ]
  }
 ],
 "metadata": {
  "kernelspec": {
   "display_name": "Python 3",
   "language": "python",
   "name": "python3"
  },
  "language_info": {
   "codemirror_mode": {
    "name": "ipython",
    "version": 3
   },
   "file_extension": ".py",
   "mimetype": "text/x-python",
   "name": "python",
   "nbconvert_exporter": "python",
   "pygments_lexer": "ipython3",
   "version": "3.4.3"
  }
 },
 "nbformat": 4,
 "nbformat_minor": 0
}
