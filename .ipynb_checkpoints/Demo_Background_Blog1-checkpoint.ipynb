{
 "cells": [
  {
   "cell_type": "markdown",
   "metadata": {},
   "source": [
    "Kimberly Devi Milner\n",
    "\n",
    "EE Independent Study w/  Fraida Fund\n",
    "\n",
    "# Radio Machine Learning: Predicting the presence of a primary user as a binary classification problem\n",
    "\n",
    "\n",
    "\n",
    "**ATTRIBUTION:** Images and references from https://ctvrie.files.wordpress.com/2013/07/cograd_commtheory_2013.pdf\n",
    "\n",
    "## What is a cognitive radio?\n",
    "A cognitive radio is a radio that is aware of its environemnt. \n",
    "\n",
    "Cognitive radios (CR) can dynamically and autonomously adjust radio parameters to interact with the environment around it. In this way CRs can decide the optimal carrier frequency and bandwidth to guide the signal to its end to end communication. \n",
    "\n",
    "## Why do we need cognitive radios?\n",
    "CISCO foresees a x1000 increase in wireless traffic by 2020. The licensed and unlicensed spectrum cannot grow at this rate. \n",
    "\n",
    "Cognitive radios provide several solutions to this dilemma; one including a mechanism to take advantage of spectrum holes -- a point in frequency, time or space -- which is not occupied by any transmission. \n",
    "\n",
    "## How  could Cognitive Radios work?\n",
    "\n",
    "### Spectrum Awareness\n",
    "The cognitive/secondary radio can learn about its environment by observing characteristics of the primary uers's channel. These characteristics include:\n",
    "    * Traffic Patterns\n",
    "    * Signaling Procedures\n",
    "    * Channel Conditions\n",
    "    * (parts of) messages sent by the legacy system\n",
    "\n",
    "\n",
    "### Transmitting the Secondary Signal\n",
    "\n",
    "There are 3 protocols for the secondary user to transmit signals, which break down into \"margin\" operations and \"help\" operations.\n",
    "\n",
    "\n",
    "##### Image References\n",
    "> * P/STX = primary/secondary transmitter\n",
    "> * P/SRX = primary/secondary receiver\n",
    "\n",
    "$$MARGIN:$$\n",
    "** Underlaying: ** The secondary user's interference to the licensed user's is not avoided, but controlled. The secondary user's intereference should go below the noise floor.\n",
    "> The difficulty here is due to the fact that the exact interference situation at the primary receiver is not known.\n",
    "\n",
    "<img src=\"interweave_2.png\">  \n",
    "\n",
    "** Interleaving: ** Interference by the secondary user is avoided and the secondary user seeks  opportunistic/orthogonal transmission through spectrum holes.\n",
    "<img src=\"underlay.png\">\n",
    "\n",
    "$$HELP:$$\n",
    "** Overlaying: ** The Cognitive Radio knows much more about the primary system (like what message it is sending) and can possibly retransmit this message. \n",
    "<img src=\"overlay.png\"> \n",
    "\n",
    "\n"
   ]
  },
  {
   "cell_type": "markdown",
   "metadata": {},
   "source": [
    "# How can we effectively detect whether or not there is another user present on the spectrum that we want to use?\n",
    "\n",
    "**REFERENCES:** (chapter 2 of Cognitive Radio Book)\n",
    "\n",
    "*Biglieri, E., Goldsmith, A.J., Greenstein, L.J., Mandayam, N.B. and Poor, H.V. (2012) ‘Capacity of cognitive radio networks’, in Principles of Cognitive Radio:. Cambridge: Cambridge University Press, pp. 41–101.*\n",
    "\n",
    "\n",
    "## What is  energy sensing \n",
    "\n",
    "**Energy sensing**  tries to determine the presence of a spectrum hole by comparing the measured energy of the primary channel against a threshold set for primary-user-presence.\n",
    "\n",
    "The primary-user-presence \"threshold depends on the observed-signal model and hence on the noise variance\" (157).\n",
    "So an error made in the estimation of the noise variance will degrade the performance of an engergy detector.\n",
    "\n",
    "But as the energy detector cannot discriminate between signal and noise, it is more likely to make errors in estimating noise variance, especially at low SNRs, and perform worse.\n",
    " \n",
    "## What is Signal-to-Noise Ratio (SNR),  also known as channel gain?\n",
    "$$SNR= \\frac{signalPower}{noisePower}$$ \n",
    "\n",
    "\n",
    "Channel gain is the amplification or attenuation of a signal on a channel:\n",
    "\n",
    "Channel gain(H) for channel(S,R)  is: $$Y = HX + Z(noise),$$ where Y is the  signal received.\n"
   ]
  },
  {
   "cell_type": "markdown",
   "metadata": {},
   "source": [
    "### SVR \n",
    "... more math; will explore in the wiki background\n",
    "Designed to work for M-array PSK-modulation\n",
    "\n",
    "**PSK** is phase key shifting, where the phase of different  portions of the signal carry the data\n",
    "\n",
    "--> one of the prototypinng labs for cognitive radios is WINLAB, and will try to replicate lab 6, without the hoping to show that SNR can be estimated in these two more sophisticated ways.  \n"
   ]
  },
  {
   "cell_type": "code",
   "execution_count": null,
   "metadata": {
    "collapsed": true
   },
   "outputs": [],
   "source": []
  },
  {
   "cell_type": "markdown",
   "metadata": {},
   "source": [
    "# A demo\n",
    "\n",
    "The point of this demo is to evaluate the complex SNR for a synthesized wave"
   ]
  },
  {
   "cell_type": "code",
   "execution_count": 1,
   "metadata": {
    "collapsed": false
   },
   "outputs": [],
   "source": [
    "%matplotlib inline\n",
    "from scipy import signal\n",
    "import matplotlib.pyplot as plt\n",
    "import numpy as np\n"
   ]
  },
  {
   "cell_type": "markdown",
   "metadata": {},
   "source": [
    "# Generate PSK waves"
   ]
  },
  {
   "cell_type": "code",
   "execution_count": 85,
   "metadata": {
    "collapsed": false
   },
   "outputs": [
    {
     "name": "stdout",
     "output_type": "stream",
     "text": [
      "[(6.123233995736766e-17-1j), (1+0j), (6.123233995736766e-17+1j), (-1+1.2246467991473532e-16j)]\n",
      "0.758125247291\n",
      "0.24661974701\n",
      "3.07406546509\n"
     ]
    },
    {
     "data": {
      "text/plain": [
       "<matplotlib.collections.PathCollection at 0xa69c4e2c>"
      ]
     },
     "execution_count": 85,
     "metadata": {},
     "output_type": "execute_result"
    },
    {
     "data": {
      "image/png": "[encoded data removed]",
      "text/plain": [
       "<matplotlib.figure.Figure at 0xa6a13c0c>"
      ]
     },
     "metadata": {},
     "output_type": "display_data"
    }
   ],
   "source": [
    "import numpy as np\n",
    "\n",
    "# PSKModem lifted from CommPy:\n",
    "# https://github.com/veeresht/CommPy/blob/master/commpy/modulation.py#L97\n",
    "\n",
    "txpower = 1\n",
    "freq = 1\n",
    "m = 4\n",
    "num_bits_symbol = int(np.log2(m))\n",
    "symbol_mapping = np.arange(m)\n",
    "def psk_constellation_symbol(i):\n",
    "    return np.cos(2*np.pi*(i-1)/m) + np.sin(2*np.pi*(i-1)/m)*(0+1j)\n",
    "\n",
    "constellation = [psk_constellation_symbol(sym) for sym in symbol_mapping]\n",
    "\n",
    "samples_per_symbol=64\n",
    "samples=2*np.pi*np.arange(samples_per_symbol)/samples_per_symbol\n",
    "\n",
    "\n",
    "nbits = 50 # *samples/sym elements in final array\n",
    "bitstream = np.random.randint(0,4,nbits)\n",
    "#symbols = [ (psk_constellation_symbol(i)) for i in bitstream]\n",
    "\n",
    "#make_sin( e^):\n",
    "#    \n",
    "\n",
    "print(constellation)\n",
    "#that many samples of approp constellation\n",
    "# modulating by carrier = mult by sin,cos\n",
    "\n",
    "#Draw sine wave; scatter\n",
    "sstream = []\n",
    "for bit in bitstream:\n",
    "    symbol = constellation[bit]\n",
    "    magnitude = np.abs(symbol)\n",
    "    phase = np.angle(symbol)\n",
    "    sstream.append(magnitude*np.sin(samples*freq + phase))\n",
    "    \n",
    "x = np.arange(nbits*samples_per_symbol)\n",
    "\n",
    "\n",
    "input_signal = txpower*np.ndarray.flatten(np.array(sstream))\n",
    "# AWGN channel also lifted from CommPy\n",
    "# https://github.com/veeresht/CommPy/blob/master/commpy/channels.py#L72\n",
    "snr_dB = 3\n",
    "avg_energy = sum(np.abs(input_signal) * np.abs(input_signal))/len(input_signal)\n",
    "snr_linear = 10**(snr_dB/10.0)\n",
    "noise_variance = avg_energy/(2*snr_linear)\n",
    "\n",
    "if input_signal.dtype == complex:\n",
    "    noise = (np.sqrt(noise_variance) * np.random.randn(len(input_signal)))  \\\n",
    "        + (np.sqrt(noise_variance) * np.random.randn(len(input_signal))*1j)\n",
    "else:\n",
    "    noise = np.sqrt(2*noise_variance) * np.random.randn(len(input_signal))\n",
    "\n",
    "output_signal = input_signal + noise\n",
    "\n",
    "#both output and noise # getting power #expect diff \n",
    "signal_P = sum([ np.abs(i**2) for i in output_signal])/len(output_signal)\n",
    "noise_P = sum([ np.abs(i**2) for i in noise]) / len(noise)\n",
    "print(signal_P)\n",
    "print(noise_P)\n",
    "print(signal_P/noise_P)\n",
    "\n",
    "#plt.scatter(x,sstream)\n",
    "\n",
    "plt.scatter(x,output_signal, color='k')\n",
    "\n",
    "plt.scatter(x,noise, color='r')\n",
    "\n",
    "\n",
    "# signal and noise \n",
    "# get snr\n",
    "# create picture from \n",
    "# recreate picture to show energy dectetion doesn't always  work\n",
    "\n",
    "\n",
    "# ML -- > samples from when user is on channel: output \n",
    "# no user plain noise --> \n",
    " # show as snr goes down\n",
    "    \n",
    "# generate these values\n",
    "\n",
    "#bunch of red blue; plot; find if linearly sepearble\n",
    "# see what happens as snr decreases; becomes harder and harder to \n",
    "\n",
    "# M2M4\n",
    "\n",
    "#energy detection method with threshold for each \n",
    "#"
   ]
  },
  {
   "cell_type": "code",
   "execution_count": null,
   "metadata": {
    "collapsed": true
   },
   "outputs": [],
   "source": []
  },
  {
   "cell_type": "markdown",
   "metadata": {},
   "source": [
    "\n",
    "### M2M4\n",
    "\n",
    "M2M4 derives the second  and fourth moments of  the signal, showing that \n",
    ">(1) $$M_2 = S + N$$\n",
    ">(2) $$M_4 = k_a +S^2 + 4SN + k_wN^2$$\n",
    "\n",
    "Since you have two equations  and two unknowns, S and N, you can solve for them and find their ratio as :\n",
    "\n",
    ">(4) $$\\frac{\\sqrt{2M_2^2 - M_4}}{M_2 - \\sqrt{2M_2^2 - M_4}}$$\n",
    "\n"
   ]
  },
  {
   "cell_type": "markdown",
   "metadata": {
    "collapsed": true
   },
   "source": [
    " \n",
    "## What are the implications of attenuated channel gain of STX on PRX?\n",
    "If the channel gain between STX and PRX is attenuated, then potentially STX can transmit at the same time as PRX, as in an underlay system.\n",
    "\n",
    "## How can we design a more sophisticated estimator of channel gain, to let STX to  transmit at the same time as PRX, as in an underlay system?\n",
    "\n",
    "We can more accurately determine channel gain by using M2M4 and SVR channel gain estimation techniques.\n"
   ]
  },
  {
   "cell_type": "code",
   "execution_count": 83,
   "metadata": {
    "collapsed": false
   },
   "outputs": [
    {
     "data": {
      "text/plain": [
       "[<matplotlib.lines.Line2D at 0xa6d63fac>]"
      ]
     },
     "execution_count": 83,
     "metadata": {},
     "output_type": "execute_result"
    },
    {
     "data": {
      "image/png": "[encoded data removed]",
      "text/plain": [
       "<matplotlib.figure.Figure at 0xa6e4804c>"
      ]
     },
     "metadata": {},
     "output_type": "display_data"
    }
   ],
   "source": [
    "# Generate a signal \n",
    "# Note the signal is not M-array PSK\n",
    "\n",
    "fs = 10e3\n",
    "N = 1e5\n",
    "amp = 2*np.sqrt(2)\n",
    "freq = 1234.0\n",
    "noise_power = 0.001 * fs / 2\n",
    "time = np.arange(N) / fs\n",
    "x = amp*np.sin(2*np.pi*freq*time)\n",
    "x += np.random.normal(scale=np.sqrt(noise_power), size=time.shape)\n",
    "\n",
    "\n",
    "#Plot signal\n",
    "plt.ylim([-10,10])\n",
    "plt.xlim([0, 0.01])\n",
    "plt.xlabel('time')\n",
    "plt.ylabel(\"amp\")\n",
    "\n",
    "\n",
    "plt.plot(time,x)"
   ]
  },
  {
   "cell_type": "markdown",
   "metadata": {},
   "source": [
    "# Signal Power Spectrum\n",
    "\n",
    "## The power spectrum of a signal: How much of signal is at frequency $$\\omega$$"
   ]
  },
  {
   "cell_type": "code",
   "execution_count": 11,
   "metadata": {
    "collapsed": false
   },
   "outputs": [
    {
     "data": {
      "image/png": "[encoded data removed]",
      "text/plain": [
       "<matplotlib.figure.Figure at 0xa8d8f8cc>"
      ]
     },
     "metadata": {},
     "output_type": "display_data"
    }
   ],
   "source": [
    ">>> f, Pxx_spec = signal.welch(x, fs, 'flattop', 1024, scaling='spectrum')\n",
    ">>> plt.figure()\n",
    ">>> plt.semilogy(f, np.sqrt(Pxx_spec))\n",
    ">>> plt.xlabel('frequency [Hz]')\n",
    ">>> plt.ylabel('Linear spectrum [V RMS]')\n",
    ">>> plt.show()\n",
    "#>>> np.sqrt(Pxx_spec.max())/noise_power"
   ]
  },
  {
   "cell_type": "markdown",
   "metadata": {},
   "source": [
    "# But what if is noise power is unknown and you want to estimate the SNR?  \n",
    "\n",
    "> Two techniques for estimating SNR are presented in the paper: \"**A Comparison of SNR Estimation Techniques for the AWGN Channel**\""
   ]
  },
  {
   "cell_type": "markdown",
   "metadata": {},
   "source": [
    "## Method 1:  M2M4\n",
    "\n"
   ]
  },
  {
   "cell_type": "code",
   "execution_count": 12,
   "metadata": {
    "collapsed": false
   },
   "outputs": [
    {
     "data": {
      "text/plain": [
       "(9.0356373533840078, 220.84322096108315)"
      ]
     },
     "execution_count": 12,
     "metadata": {},
     "output_type": "execute_result"
    }
   ],
   "source": [
    "M2 = np.mean(abs(x)**2)\n",
    "M4 = np.mean(abs(x)**4)\n",
    "M2, M4"
   ]
  },
  {
   "cell_type": "code",
   "execution_count": 13,
   "metadata": {
    "collapsed": false
   },
   "outputs": [
    {
     "data": {
      "text/plain": [
       "(-0.41348806257581983+0.49245881521515555j)"
      ]
     },
     "execution_count": 13,
     "metadata": {},
     "output_type": "execute_result"
    }
   ],
   "source": [
    "num = (np.sqrt(complex(2*(M2**2) - M4)))\n",
    "\n",
    "snr = num/ (M2-num)\n",
    "snr"
   ]
  },
  {
   "cell_type": "markdown",
   "metadata": {},
   "source": [
    "## SVR Estimator\n",
    "\n"
   ]
  },
  {
   "cell_type": "code",
   "execution_count": 14,
   "metadata": {
    "collapsed": false
   },
   "outputs": [
    {
     "data": {
      "text/plain": [
       "(-0.40979589640776182+0.49179591264580552j)"
      ]
     },
     "execution_count": 14,
     "metadata": {},
     "output_type": "execute_result"
    }
   ],
   "source": [
    "signal = x\n",
    "N = len(signal)\n",
    "ssum = 0\n",
    "for i in range(1, N):\n",
    "    ssum += (abs(signal[i])**2)*(abs(signal[i-1])**2)\n",
    "savg = (1.0/(float(N)-1.0))*ssum\n",
    "\n",
    "\n",
    "# Get B\n",
    "B = savg / (M4 - savg)\n",
    "\n",
    "# Estimate SNR\n",
    "snr_2 = B-1 + np.sqrt(complex(B*(B-1)))\n",
    "snr_2"
   ]
  },
  {
   "cell_type": "markdown",
   "metadata": {},
   "source": [
    "# Questions and Going Forward\n",
    "\n",
    "## Questions:\n",
    "\n",
    "1. For the background for blog post 1, should I write  up the demo using the synthesized wave above, orth try to use radio waves as done in the FM decoding GENI blog post?\n",
    "\n",
    "2. How should SNR be calculated in line [38] above? Why is this value not complex?\n",
    "\n",
    "3. Confirm purpose of blog post 1: instructions on how to set up a radio to detect energy using M2M4 and SVR techniques? ie producct will be a plt btw SNR and SNR_estimateed\n"
   ]
  }
 ],
 "metadata": {
  "kernelspec": {
   "display_name": "Python 3",
   "language": "python",
   "name": "python3"
  },
  "language_info": {
   "codemirror_mode": {
    "name": "ipython",
    "version": 3
   },
   "file_extension": ".py",
   "mimetype": "text/x-python",
   "name": "python",
   "nbconvert_exporter": "python",
   "pygments_lexer": "ipython3",
   "version": "3.4.3"
  }
 },
 "nbformat": 4,
 "nbformat_minor": 0
}
