{
 "cells": [
  {
   "cell_type": "markdown",
   "metadata": {},
   "source": [
    "Kimberly Devi Milner\n",
    "\n",
    "EE Independent Study w/  Prof. Fraida Fund\n",
    "\n",
    "Oct. 28 2016\n",
    "# Presentation 2: Background and Demo for Blog_1\n",
    "\n",
    "This is the first of three blog about Cognitive Radios and Machine Learning. Here we will examine two-techniques -- the Second-and-Fourth-Moments (M2M4) and the Signal-to-Variation-Ratio (SVR) -- to estimate a signal's Signal-to-Noise Ratio (SNR).\n",
    "\n",
    "These estimators provide more insight into the non-random characteristics of a radio signal than energy detection would alone.  \n",
    "\n",
    "In this Background section, we will show intuition for the M2M4 and SVR estimators through detailing the estimators' performance on both Q-PSK and random signals. \n",
    "\n",
    "\n",
    "**ATTRIBUTION:** Images and references from https://ctvrie.files.wordpress.com/2013/07/cograd_commtheory_2013.pdf\n",
    "\n",
    "## What is a cognitive radio?\n",
    "A cognitive radio is a radio that is aware of its environemnt. \n",
    "\n",
    "Cognitive radios (CR) can dynamically and autonomously adjust radio parameters to interact with the environment around it. In this way CRs can decide the optimal carrier frequency and bandwidth to guide the signal to its end to end communication. \n",
    "\n",
    "## Why do we need cognitive radios?\n",
    "CISCO foresees a x1000 increase in wireless traffic by 2020. The licensed and unlicensed spectrum cannot grow at this rate. \n",
    "\n",
    "Cognitive radios provide several solutions to this dilemma; one including a mechanism to take advantage of spectrum holes -- a point in frequency, time or space -- which is not occupied by any transmission. \n",
    "\n",
    "## How  could Cognitive Radios work?\n",
    "\n",
    "### Spectrum Awareness\n",
    "The cognitive/secondary radio can learn about its environment by observing characteristics of the primary uers's channel. These characteristics include:\n",
    "    * Traffic Patterns\n",
    "    * Signaling Procedures\n",
    "    * Channel Conditions\n",
    "    * (parts of) messages sent by the legacy system\n",
    "\n",
    "\n",
    "### Transmitting the Secondary Signal\n",
    "\n",
    "There are 3 protocols for the secondary user to transmit signals, which break down into \"margin\" operations and \"help\" operations.\n",
    "\n",
    "\n",
    "##### Image References\n",
    "> * P/STX = primary/secondary transmitter\n",
    "> * P/SRX = primary/secondary receiver\n",
    "\n",
    "$$MARGIN:$$\n",
    "** Underlaying: ** The secondary user's interference to the licensed user's is not avoided, but controlled. The secondary user's intereference should go below the noise floor.\n",
    "> The difficulty here is due to the fact that the exact interference situation at the primary receiver is not known.\n",
    "\n",
    "<img src=\"interweave_2.png\">  \n",
    "\n",
    "** Interleaving: ** Interference by the secondary user is avoided and the secondary user seeks  opportunistic/orthogonal transmission through spectrum holes.\n",
    "<img src=\"underlay.png\">\n",
    "\n",
    "$$HELP:$$\n",
    "** Overlaying: ** The Cognitive Radio knows much more about the primary system (like what message it is sending) and can possibly retransmit this message. \n",
    "<img src=\"overlay.png\"> \n",
    "\n",
    "\n"
   ]
  },
  {
   "cell_type": "markdown",
   "metadata": {},
   "source": [
    "# Blog post 1: Sophisticated Sensing: Beyond Simple Energy Sensing\n",
    "\n",
    "**REFERENCES:** (chapter 2 of Cognitive Radio Book)\n",
    "\n",
    "*Biglieri, E., Goldsmith, A.J., Greenstein, L.J., Mandayam, N.B. and Poor, H.V. (2012) ‘Capacity of cognitive radio networks’, in Principles of Cognitive Radio:. Cambridge: Cambridge University Press, pp. 41–101.*\n",
    "\n",
    "\n",
    "## What is  energy sensing and why is not  sophicticated in determining the presence of a spectrum home?\n",
    "**Energy sensing**  tries to determine the presence of a spectrum hole by comparing the measured energy of the primary channel against a threshold set for primary-user-presence.\n",
    "\n",
    "The primary-user-presence \"threshold depends on the observed-signal model and hence on the noise variance\" (157).\n",
    "So an error made in the estimation of the noise variance will degrade the performance of an engergy detector.\n",
    "\n",
    "But as the energy detector cannot discriminate between signal and noise, it is more likely to make errors in estimating noise variance, especially at low SNRs, and perform worse.\n",
    " \n",
    "## What is Signal-to-Noise Ratio (SNR),  also known as channel gain?\n",
    "$$SNR= \\frac{signalPower}{noisePower}$$ \n",
    "\n",
    "\n",
    "Channel gain is the amplification or attenuation of a signal on a channel:\n",
    "\n",
    "Channel gain(H) for channel(S,R)  is: $$Y = HX + Z(noise),$$ where Y is the  signal received.\n",
    " \n",
    "## What are the implications of attenuated channel gain of STX on PRX?\n",
    "If the channel gain between STX and PRX is attenuated, then potentially STX can transmit at the same time as PRX, as in an underlay system.\n",
    "\n",
    "## How can we design a more sophisticated estimator of channel gain, to let STX to  transmit at the same time as PRX, as in an underlay system?\n",
    "\n",
    "We can more accurately determine channel gain by using M2M4 and SVR channel gain estimation techniques.\n"
   ]
  },
  {
   "cell_type": "markdown",
   "metadata": {},
   "source": [
    "######################################################################################################\n",
    "# ABOVE iS POLISHED\n",
    "# BELOW I'M STILL WORKING ON DEMO\n",
    "\n",
    "# MY QUESTION: \n",
    "## is my understanding of why SNR is useful -- ie its potential for an underlay system --correct?\n",
    "\n",
    "######################################################################################################"
   ]
  },
  {
   "cell_type": "markdown",
   "metadata": {},
   "source": [
    "\n",
    "### M2M4\n",
    "\n",
    "M2M4 derives the second  and fourth moments of  the signal, showing that \n",
    ">(1) $$M_2 = S + N$$\n",
    ">(2) $$M_4 = k_a +S^2 + 4SN + k_wN^2$$\n",
    "\n",
    "Since you have two equations  and two unknowns, S and N, you can solve for them and find their ratio as :\n",
    "\n",
    ">(4) $$\\frac{\\sqrt{2M_2^2 - M_4}}{M_2 - \\sqrt{2M_2^2 - M_4}}$$\n",
    "\n"
   ]
  },
  {
   "cell_type": "markdown",
   "metadata": {},
   "source": [
    "### SVR \n",
    "... more math; will explore in the wiki background\n",
    "Designed to work for M-array PSK-modulation\n",
    "\n",
    "**PSK** is phase key shifting, where the phase of different  portions of the signal carry the data\n",
    "\n",
    "--> one of the prototypinng labs for cognitive radios is WINLAB, and will try to replicate lab 6, without the hoping to show that SNR can be estimated in these two more sophisticated ways.  \n"
   ]
  },
  {
   "cell_type": "code",
   "execution_count": 1,
   "metadata": {
    "collapsed": true
   },
   "outputs": [],
   "source": [
    "#notes: understand M2M4 technique; "
   ]
  },
  {
   "cell_type": "code",
   "execution_count": null,
   "metadata": {
    "collapsed": true
   },
   "outputs": [],
   "source": []
  },
  {
   "cell_type": "markdown",
   "metadata": {},
   "source": [
    "# A demo\n",
    "\n",
    "The point of this demo is to evaluate the complex SNR for a synthesized wave"
   ]
  },
  {
   "cell_type": "code",
   "execution_count": 9,
   "metadata": {
    "collapsed": false
   },
   "outputs": [],
   "source": [
    "%matplotlib inline\n",
    "from scipy import signal\n",
    "import matplotlib.pyplot as plt\n",
    "import numpy as np\n"
   ]
  },
  {
   "cell_type": "markdown",
   "metadata": {},
   "source": [
    "# Generate a 2Vrms sine wave 2048HZ signal with known noise \n",
    "## Noise is (0.001 (volts^2)) / hertz) sampled at 10kHz\n",
    "### Code for signal generation from  http://scipy.github.io/devdocs/generated/scipy.signal.welch.html"
   ]
  },
  {
   "cell_type": "code",
   "execution_count": 10,
   "metadata": {
    "collapsed": false
   },
   "outputs": [
    {
     "data": {
      "text/plain": [
       "[<matplotlib.lines.Line2D at 0xa8b9edcc>]"
      ]
     },
     "execution_count": 10,
     "metadata": {},
     "output_type": "execute_result"
    },
    {
     "data": {
      "image/png": "[encoded data removed]",
      "text/plain": [
       "<matplotlib.figure.Figure at 0xa8d705cc>"
      ]
     },
     "metadata": {},
     "output_type": "display_data"
    }
   ],
   "source": [
    "# Generate a signal \n",
    "# Note the signal is not M-array PSK\n",
    "\n",
    "fs = 10e3\n",
    "N = 1e5\n",
    "amp = 2*np.sqrt(2)\n",
    "freq = 1234.0\n",
    "noise_power = 0.001 * fs / 2\n",
    "time = np.arange(N) / fs\n",
    "x = amp*np.sin(2*np.pi*freq*time)\n",
    "x += np.random.normal(scale=np.sqrt(noise_power), size=time.shape)\n",
    "\n",
    "\n",
    "#Plot signal\n",
    "plt.ylim([-10,10])\n",
    "plt.xlim([0, 0.01])\n",
    "plt.xlabel('time')\n",
    "plt.ylabel(\"amp\")\n",
    "\n",
    "\n",
    "plt.plot(time,x)"
   ]
  },
  {
   "cell_type": "markdown",
   "metadata": {},
   "source": [
    "# Signal Power Spectrum\n",
    "\n",
    "## The power spectrum of a signal: How much of signal is at frequency $$\\omega$$"
   ]
  },
  {
   "cell_type": "code",
   "execution_count": 11,
   "metadata": {
    "collapsed": false
   },
   "outputs": [
    {
     "data": {
      "image/png": "[encoded data removed]",
      "text/plain": [
       "<matplotlib.figure.Figure at 0xa8d8f8cc>"
      ]
     },
     "metadata": {},
     "output_type": "display_data"
    }
   ],
   "source": [
    ">>> f, Pxx_spec = signal.welch(x, fs, 'flattop', 1024, scaling='spectrum')\n",
    ">>> plt.figure()\n",
    ">>> plt.semilogy(f, np.sqrt(Pxx_spec))\n",
    ">>> plt.xlabel('frequency [Hz]')\n",
    ">>> plt.ylabel('Linear spectrum [V RMS]')\n",
    ">>> plt.show()\n",
    "#>>> np.sqrt(Pxx_spec.max())/noise_power"
   ]
  },
  {
   "cell_type": "markdown",
   "metadata": {},
   "source": [
    "# But what if is noise power is unknown and you want to estimate the SNR?  \n",
    "\n",
    "> Two techniques for estimating SNR are presented in the paper: \"**A Comparison of SNR Estimation Techniques for the AWGN Channel**\""
   ]
  },
  {
   "cell_type": "markdown",
   "metadata": {},
   "source": [
    "## Method 1:  M2M4\n",
    "\n"
   ]
  },
  {
   "cell_type": "code",
   "execution_count": 12,
   "metadata": {
    "collapsed": false
   },
   "outputs": [
    {
     "data": {
      "text/plain": [
       "(9.0356373533840078, 220.84322096108315)"
      ]
     },
     "execution_count": 12,
     "metadata": {},
     "output_type": "execute_result"
    }
   ],
   "source": [
    "M2 = np.mean(abs(x)**2)\n",
    "M4 = np.mean(abs(x)**4)\n",
    "M2, M4"
   ]
  },
  {
   "cell_type": "code",
   "execution_count": 13,
   "metadata": {
    "collapsed": false
   },
   "outputs": [
    {
     "data": {
      "text/plain": [
       "(-0.41348806257581983+0.49245881521515555j)"
      ]
     },
     "execution_count": 13,
     "metadata": {},
     "output_type": "execute_result"
    }
   ],
   "source": [
    "num = (np.sqrt(complex(2*(M2**2) - M4)))\n",
    "\n",
    "snr = num/ (M2-num)\n",
    "snr"
   ]
  },
  {
   "cell_type": "markdown",
   "metadata": {},
   "source": [
    "## SVR Estimator\n",
    "\n"
   ]
  },
  {
   "cell_type": "code",
   "execution_count": 14,
   "metadata": {
    "collapsed": false
   },
   "outputs": [
    {
     "data": {
      "text/plain": [
       "(-0.40979589640776182+0.49179591264580552j)"
      ]
     },
     "execution_count": 14,
     "metadata": {},
     "output_type": "execute_result"
    }
   ],
   "source": [
    "signal = x\n",
    "N = len(signal)\n",
    "ssum = 0\n",
    "for i in range(1, N):\n",
    "    ssum += (abs(signal[i])**2)*(abs(signal[i-1])**2)\n",
    "savg = (1.0/(float(N)-1.0))*ssum\n",
    "\n",
    "\n",
    "# Get B\n",
    "B = savg / (M4 - savg)\n",
    "\n",
    "# Estimate SNR\n",
    "snr_2 = B-1 + np.sqrt(complex(B*(B-1)))\n",
    "snr_2"
   ]
  },
  {
   "cell_type": "markdown",
   "metadata": {},
   "source": [
    "# Questions and Going Forward\n",
    "\n",
    "## Questions:\n",
    "\n",
    "1. For the background for blog post 1, should I write  up the demo using the synthesized wave above, orth try to use radio waves as done in the FM decoding GENI blog post?\n",
    "\n",
    "2. How should SNR be calculated in line [38] above? Why is this value not complex?\n",
    "\n",
    "3. Confirm purpose of blog post 1: instructions on how to set up a radio to detect energy using M2M4 and SVR techniques? ie producct will be a plt btw SNR and SNR_estimateed\n"
   ]
  }
 ],
 "metadata": {
  "kernelspec": {
   "display_name": "Python 3",
   "language": "python",
   "name": "python3"
  },
  "language_info": {
   "codemirror_mode": {
    "name": "ipython",
    "version": 3
   },
   "file_extension": ".py",
   "mimetype": "text/x-python",
   "name": "python",
   "nbconvert_exporter": "python",
   "pygments_lexer": "ipython3",
   "version": "3.4.3"
  }
 },
 "nbformat": 4,
 "nbformat_minor": 0
}
